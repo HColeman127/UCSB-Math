{
 "cells": [
  {
   "cell_type": "markdown",
   "metadata": {},
   "source": [
    "# Homework 1\n",
    "\n",
    "MATH 104A Intro to Numerical Analysis\n",
    "\n",
    "Harry Coleman\n",
    "\n",
    "October 24, 2020"
   ]
  },
  {
   "cell_type": "markdown",
   "metadata": {},
   "source": [
    "## Exercise 1\n",
    "\n",
    "---\n",
    "\n",
    "Review and state the following theorems of Calculus:\n",
    "\n",
    "(a) The Intermediate Value Theorem.\n",
    "\n",
    "(b) The Mean Value Theorem.\n",
    "\n",
    "(c) Rolle’s Theorem.\n",
    "\n",
    "(d) The Mean Value Theorem for Integrals.\n",
    "\n",
    "(e) The Weighted Mean Value Theorem for Integrals.\n",
    "\n",
    "---"
   ]
  },
  {
   "cell_type": "markdown",
   "metadata": {},
   "source": [
    "#### (a) The Intermediate Value Theorem.\n",
    "\n",
    "If a function $f$ is continuous on $[a,b]$, then for any $y\\in[f(a),f(b)]$, there exists a point $c\\in[a,b]$ such that $f(c)=y$."
   ]
  },
  {
   "cell_type": "markdown",
   "metadata": {},
   "source": [
    "#### (b) The Mean Value Theorem.\n",
    "\n",
    "If a function $f$ is continuous on $[a,b]$ and differentiable on $(a,b)$, then there exists a point $c\\in(a,b)$ such that\n",
    "$$f(b) = f(a) + f'(c)(b-a),$$\n",
    "or equivalently,\n",
    "$$f'(c) = \\frac{f(b)-f(a)}{b-a}.$$"
   ]
  },
  {
   "cell_type": "markdown",
   "metadata": {},
   "source": [
    "#### (c) Rolle’s Theorem.\n",
    "\n",
    "If a function $f$ is continuous on $[a,b]$ and differentiable on $(a,b)$, then there exists a point $c\\in(a,b)$ such that $f'(c)=0$."
   ]
  },
  {
   "cell_type": "markdown",
   "metadata": {},
   "source": [
    "#### (d) The Mean Value Theorem for Integrals.\n",
    "\n",
    "If a function $f$ is continuous on $[a,b]$, then there exists a point $c\\in[a,b]$ such that\n",
    "$$f(c) = \\frac1{b-a}\\int_a^bf(x)dx.$$"
   ]
  },
  {
   "cell_type": "markdown",
   "metadata": {},
   "source": [
    "#### (e) The Weighted Mean Value Theorem for Integrals.\n",
    "\n",
    "If the functions $f,g$ are continuous on $[a,b]$ with $g$ nonnegative, then there exists a point $c\\in[a,b]$ such that\n",
    "$$f(c)\\int_a^bg(x)dx = \\int_a^bf(x)g(x)dx.$$"
   ]
  },
  {
   "cell_type": "markdown",
   "metadata": {},
   "source": [
    "\n",
    "## Exercise 2\n",
    "\n",
    "---\n",
    "\n",
    "Write a computer code to implement the Composite Trapezoidal Rule quadrature\n",
    "$$T_h[f] = h\\left(\\frac12 f(x_0) + f(x_1) + \\cdots f(x_{N-1}) + \\frac12 f(x_N)\\right),$$\n",
    "to approximate the definite integral\n",
    "$$I[f] = \\int_a^b f(x)dx,$$\n",
    "using the equally spaced points $x_0 = a, x_1 = x_0 + h, x_2 = x_0 + 2h,\\dots, x_N = b$, where\n",
    "$h = \\frac{b−a}N$.\n",
    "\n",
    "---"
   ]
  },
  {
   "cell_type": "markdown",
   "metadata": {},
   "source": [
    "The following function takes as input $h$, the width of the subintervals, and $F$, an array of the values of $f$ at each of the endpoints of the subintervals. The output is an approximation of the integral given by $T_h[f]$. In particular, the evaluation of $T_h[f]$ is calculated as\n",
    "$$h\\left(\\frac{f(x_0)}2 + \\sum_{i=1}^{N-1}f(x_i) + \\frac{f(x_N)}2\\right)$$\n",
    "using the corresponding arithmetic operations of Python.\n"
   ]
  },
  {
   "cell_type": "code",
   "execution_count": 1,
   "metadata": {},
   "outputs": [],
   "source": [
    "def CTR(h, F):\n",
    "    return h*(F[0]/2 + sum(F[1:-1]) + F[-1]/2)"
   ]
  },
  {
   "cell_type": "markdown",
   "metadata": {},
   "source": [
    "## Exercise 3\n",
    "\n",
    "---\n",
    "\n",
    "To test your code, take $f(x)=xe^{x^2}$ in $[0,1]$, compute the error $|I[f] - T_h[f]|$ for $h=\\frac1{16},\\frac1{32},\\frac1{64}$, and verify that $T_h$ has a convergent trend at the expected quadratic rate.\n",
    "\n",
    "---"
   ]
  },
  {
   "cell_type": "markdown",
   "metadata": {},
   "source": [
    "We first define the following Python function, whose inputs and outputs coincide with those of $f(x)=xe^{x^2}$."
   ]
  },
  {
   "cell_type": "code",
   "execution_count": 2,
   "metadata": {},
   "outputs": [],
   "source": [
    "import math\n",
    "\n",
    "def f(x):\n",
    "    return x*math.exp(x**2)"
   ]
  },
  {
   "cell_type": "markdown",
   "metadata": {},
   "source": [
    "We then define a helper function which takes as input $a$, the start of the interval, $b$, the end of the interval, and $N$, the number of subintervals. It calculates\n",
    "$$h = \\frac{b-a}N,$$\n",
    "the width of the subintervals, and $F$, the array containing the values of $f$ at each of the endpoints of the subintervals. Explicitly, we have\n",
    "$$F = [f(x_0), f(x_1), \\dots, f(x_N)],$$\n",
    "that is, $F[i] = f(x_i)$ for $i=0,\\dots,N$. It calls the function for the composite trapezoidal rules using these values and returns the result."
   ]
  },
  {
   "cell_type": "code",
   "execution_count": 3,
   "metadata": {},
   "outputs": [],
   "source": [
    "def CTR_f(a,b,N):\n",
    "    h = (b-a)/N\n",
    "    \n",
    "    F = [f(a+k*h) for k in range(0,N+1)]\n",
    "    \n",
    "    return CTR(h,F)"
   ]
  },
  {
   "cell_type": "markdown",
   "metadata": {},
   "source": [
    "The exact value of the integral is given by\n",
    "$$I[f] = \\int_0^1xe^{x^2}dx. $$\n",
    "Letting $u=x^2$, so $du=2xdx$ (note that our interval is the same as $0^2=0$ and $1^2 =1 $), we find\n",
    "\\begin{align*}\n",
    "    I[f]\n",
    "        &= \\frac12\\int_0^1e^udu\\\\\n",
    "        &= \\frac12 e^u \\rvert_0^1 \\\\\n",
    "        &= \\frac12(e-1).\n",
    "\\end{align*}\n",
    "\n",
    "Approximating this value with the value of $e$ supplied by Python's math module, we now compute the error of the composite trapezoidal rule for the given values of $h$. "
   ]
  },
  {
   "cell_type": "code",
   "execution_count": 4,
   "metadata": {},
   "outputs": [
    {
     "name": "stdout",
     "output_type": "stream",
     "text": [
      "Error with h=1/16:  0.0023269929021892954\n",
      "Error with h=1/32:  0.000582134000764678\n",
      "Error with h=1/64:  0.0001455576504568734\n"
     ]
    }
   ],
   "source": [
    "def error(N):\n",
    "    return abs((math.e - 1)/2 - CTR_f(0,1,N))\n",
    "\n",
    "print(\"Error with h=1/16: \", error(16))\n",
    "print(\"Error with h=1/32: \", error(32))\n",
    "print(\"Error with h=1/64: \", error(64))"
   ]
  },
  {
   "cell_type": "markdown",
   "metadata": {},
   "source": [
    "Using our computed errors, we check for quadratic convergence, i.e, we want\n",
    "$$\\frac{E_{1/32}[f] - E_{1/16}[f]}{E_{1/64}[f] - E_{1/32}[f]} \\approx 4.$$"
   ]
  },
  {
   "cell_type": "code",
   "execution_count": 5,
   "metadata": {},
   "outputs": [
    {
     "data": {
      "text/plain": [
       "3.9966867197328"
      ]
     },
     "execution_count": 5,
     "metadata": {},
     "output_type": "execute_result"
    }
   ],
   "source": [
    "(error(32) - error(16))/(error(64) - error(32))"
   ]
  },
  {
   "cell_type": "markdown",
   "metadata": {},
   "source": [
    "## Exercise 4\n",
    "\n",
    "---\n",
    "\n",
    "Consider the definite integral\n",
    "$$I[e^{-x^2}] = \\int_0^1e^{-x^2}dx.$$\n",
    "We cannot calculate its exact value, but we can compute accurate approximations to it using $T_h[e^{-x^2}]$. Let\n",
    "$$q(h) = \\frac{T_{h/2}[e^{-x^2}] - T_h[e^{-x^2}]}{T_{h/4}[e^{-x^2}] - T_{h/2}[e^{-x^2}]}.$$\n",
    "Using your code, find a value of $h$ for which $q(h)$ is approximately equal to $4$. (a) Get an _approximation_ of the rror, $I[e^{-x^2}]-T_h[e^{-x^2}]$, for that particular value of $h$. (b) Use this error approximation to obtain the _extrapolated_, improved, approximation\n",
    "$$S_h[e^{-x^2}] = T_h[e^{-x^2}] + \\frac43\\left( T_{h/2}[e^{-x^2}] - T_h[e^{-x^2}]\\right).$$\n",
    "Explain why $S_h[e^{-x^2}]$ ism ore accurate and converges faster to $I[e^{-x^2}]$ than $T_h[e^{-x^2}]$.\n",
    "\n",
    "---"
   ]
  },
  {
   "cell_type": "markdown",
   "metadata": {},
   "source": [
    "We first define a Python function whose inputs and outputs coincide with those of $e^{-x^2}$."
   ]
  },
  {
   "cell_type": "code",
   "execution_count": 6,
   "metadata": {},
   "outputs": [],
   "source": [
    "def g(x):\n",
    "    return math.exp(-x**2)"
   ]
  },
  {
   "cell_type": "markdown",
   "metadata": {},
   "source": [
    "And now a Python function which takes as input the interval $(a,b)$ and a number of subintervals $N$ and returns a composite trapezoidal approximation for the integral of $g$ over the given interval, using the given number of subintervals"
   ]
  },
  {
   "cell_type": "code",
   "execution_count": 7,
   "metadata": {},
   "outputs": [],
   "source": [
    "def CTR_g(a,b,N):\n",
    "    h = (b-a)/N\n",
    "    \n",
    "    F = [g(a+k*h) for k in range(0,N+1)]\n",
    "    \n",
    "    return CTR(h,F)"
   ]
  },
  {
   "cell_type": "markdown",
   "metadata": {},
   "source": [
    "Now a third Python function which takes as input the number of subintervals $N$ and returns the corresponding value of $q(h)$, where $h=(b-a)/N$."
   ]
  },
  {
   "cell_type": "code",
   "execution_count": 8,
   "metadata": {},
   "outputs": [],
   "source": [
    "def q(N):\n",
    "    return (CTR_g(0,1,N*2) - CTR_g(0,1,N))/(CTR_g(0,1,N*4)-CTR_g(0,1,N*2))"
   ]
  },
  {
   "cell_type": "markdown",
   "metadata": {},
   "source": [
    "We now compute $q(h)$ over a range of values of $h$."
   ]
  },
  {
   "cell_type": "code",
   "execution_count": 9,
   "metadata": {},
   "outputs": [
    {
     "name": "stdout",
     "output_type": "stream",
     "text": [
      "q(1/2) = 4.0304623534\n",
      "q(1/4) = 4.0077738742\n",
      "q(1/8) = 4.0019508539\n",
      "q(1/16) = 4.0004881414\n",
      "q(1/32) = 4.0001220616\n",
      "q(1/64) = 4.0000305167\n",
      "q(1/128) = 4.0000076298\n",
      "q(1/256) = 4.0000019095\n",
      "q(1/512) = 4.0000005240\n"
     ]
    }
   ],
   "source": [
    "for n in range(1,10):\n",
    "    print(\"q(1/%0d) = %0.10f\" % (2**n, q(2**n)))"
   ]
  },
  {
   "cell_type": "markdown",
   "metadata": {},
   "source": [
    "We will suppose that $h=1/512$ is sufficiently small. For a sufficiently small value of $h$, we have\n",
    "$$I[e^{-x^2}] = T_h[e^{-x^2}] + C_2h^2 + R(h),$$\n",
    "and\n",
    "$$I[e^{-x^2}] = T_{h/2}[e^{-x^2}] + \\frac14C_2h^2 + R(h/2).$$\n",
    "Subtracting these, we obtain\n",
    "$$0 = T_h[e^{-x^2}] - T_{h/2}[e^{-x^2}] + \\frac34 C_2h^2 + R(h) + R(h/2),$$\n",
    "which we solve for $C_2h^2$ to find\n",
    "$$C_2h^2 = \\frac43\\left(T_h[e^{-x^2}] - T_{h/2}[e^{-x^2}]\\right) + \\frac43(R(h) + R(h/2)).$$\n",
    "Since sufficiently small $h$ gives us\n",
    "$$ o(h^2) = \\frac43(R(h) + R(h/2)),$$\n",
    "then we have the approximation\n",
    "$$C_2h^2 \\approx \\frac43\\left(T_h[e^{-x^2}] - T_{h/2}[e^{-x^2}]\\right).$$\n",
    "With this, we derive the approximation of the error\n",
    "$$I[e^{-x^2}]-T_h[e^{-x^2}] \\approx \\frac43\\left(T_h[e^{-x^2}] - T_{h/2}[e^{-x^2}]\\right).$$\n",
    "We now create a Python function which implements this formula, and compute for $h=1/512$."
   ]
  },
  {
   "cell_type": "code",
   "execution_count": 10,
   "metadata": {},
   "outputs": [
    {
     "name": "stdout",
     "output_type": "stream",
     "text": [
      "0.0000002339\n"
     ]
    }
   ],
   "source": [
    "def error_approx(a,b,N):\n",
    "    return 4/3*(CTR_g(a,b,2*N) - CTR_g(a,b,N))\n",
    "\n",
    "print(\"%0.10f\" % error_approx(0,1,2**9))"
   ]
  },
  {
   "cell_type": "markdown",
   "metadata": {},
   "source": [
    "With this approximation of the error, we obtain the exptrapolated approximaton\n",
    "$$S_h[e^{-x^2}] = T_h[e^{-x^2}] + \\frac43\\left( T_{h/2}[e^{-x^2}] - T_h[e^{-x^2}]\\right).$$\n",
    "We create a Python function which implements this new approximation formula and compute for $h=1/512$."
   ]
  },
  {
   "cell_type": "code",
   "execution_count": 11,
   "metadata": {},
   "outputs": [
    {
     "name": "stdout",
     "output_type": "stream",
     "text": [
      "0.7468241328124346\n"
     ]
    }
   ],
   "source": [
    "def S_g(a,b,N):\n",
    "    return CTR_g(a,b,N) + error_approx(a,b,N)\n",
    "\n",
    "print(S_g(0,1,2**9))"
   ]
  },
  {
   "cell_type": "markdown",
   "metadata": {},
   "source": [
    "In the Composite Trapezoidal Rule, we have the error $C_2h^2 + R(h)$, where $C_2$ is the coefficient of the leading order term and $R(h)$ is the residual term. This tells us that the Composite Trapezoidal Rule converges to $0$ at a quadratic rate as $h$ tends to $0$. The extrapolated approximation eliminates the leading order term of the error, resulting in an error of $o(h^2)$. In other words, the error of the extrapolation converges to $0$ strictly faster than $h^2$, whereas the error of the Composite Trapezoidal rules converges to $0$ as fast as $h^2$. "
   ]
  }
 ],
 "metadata": {
  "kernelspec": {
   "display_name": "Python 3",
   "language": "python",
   "name": "python3"
  },
  "language_info": {
   "codemirror_mode": {
    "name": "ipython",
    "version": 3
   },
   "file_extension": ".py",
   "mimetype": "text/x-python",
   "name": "python",
   "nbconvert_exporter": "python",
   "pygments_lexer": "ipython3",
   "version": "3.8.5"
  }
 },
 "nbformat": 4,
 "nbformat_minor": 4
}
