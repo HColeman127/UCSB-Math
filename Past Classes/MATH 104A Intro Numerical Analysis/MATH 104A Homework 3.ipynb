{
 "cells": [
  {
   "cell_type": "markdown",
   "metadata": {},
   "source": [
    "# Homework 3\n",
    "\n",
    "MATH 104A Intro to Numerical Analysis\n",
    "\n",
    "Harry Coleman\n",
    "\n",
    "November 29, 2020"
   ]
  },
  {
   "cell_type": "markdown",
   "metadata": {},
   "source": [
    "## Exercise 1"
   ]
  },
  {
   "cell_type": "markdown",
   "metadata": {},
   "source": [
    "#### Exercise 1(a)\n",
    "\n",
    "---\n",
    "\n",
    "Equating the leading coefficient of in the Lagrange form of the interpolation polynomial\n",
    "$P_n(x)$ with that of the Newton’s form deduce that\n",
    "$$\n",
    "    f[x_0,x_1,\\dots,x_n] = \\sum_{j=0}^n\\frac{f(x_j)}{\\displaystyle\\prod_{k=0 \\\\ k\\ne j}^n(x_j - x_k)}. \\tag{1}\n",
    "$$\n",
    "\n",
    "\n",
    "---"
   ]
  },
  {
   "cell_type": "markdown",
   "metadata": {},
   "source": [
    "For the given data $(x_0,f(x_0)),\\dots,(x_n,f(x_n))$, the Newton's form of the interpolating polynomial $P_n$ is given by\n",
    "$$P_n(x) = f[x_0] + \\sum_{j=1}^nf[x_0,\\dots,x_j]\\prod_{k=0}^{j-1}(x-x_k).$$\n",
    "Note that the $j$th summand is a polynomial of degree at most $j$, so the leading order term of $P_n$ is precisely\n",
    "$$f[x_0,\\dots,x_n]\\prod_{k=0}^{n-1}x = f[x_0,\\dots,x_n]x^n.$$\n",
    "We now consider the Lagrange form of the interpolating polynomial, which is given by\n",
    "$$P_n(x) = \\sum_{j=0}^n f(x_j) \\prod_{k=0 \\\\ k\\ne j}^n\\frac{x-x_k}{x_j-x_k}.$$\n",
    "Here, each summand is a polynomial of degree at most $n$, so the leading order term of $P_n$ is precisely\n",
    "$$P_n(x) = \\sum_{j=0}^n f(x_j) \\prod_{k=0 \\\\ k\\ne j}^n\\frac{x}{x_j-x_k} = \\sum_{j=0}^n f(x_j) \\frac{x^n}{\\displaystyle\\prod_{k=0 \\\\ k\\ne j}^n (x_j-x_k)} = x^n\\sum_{j=0}^n \\frac{f(x_j)}{\\displaystyle\\prod_{k=0 \\\\ k\\ne j}^n (x_j-x_k)}.$$\n",
    "Thus, with these two reprentations of the leading order term of $U_n$, we have the equality (1)."
   ]
  },
  {
   "cell_type": "markdown",
   "metadata": {},
   "source": [
    "#### Exercise 1(b)\n",
    "\n",
    "---\n",
    "\n",
    "Use (a) to conclude that divided differences are symmetric functions of their arguments,\n",
    "i.e. any permutation of $x_0, x_1, \\dots, x_n$ leaves the corresponding divided difference unchanged.\n",
    "\n",
    "---"
   ]
  },
  {
   "cell_type": "markdown",
   "metadata": {},
   "source": [
    "Suppose $\\sigma$ is a permutation of the set $\\{x_0,\\dots,x_n\\}$. Any permutation is a composition of finitely many transpositions, so $\\sigma = \\tau_1\\cdots\\tau_r$ where each $\\tau_i$ is a transposition of two elements of $\\{x_0,\\dots,x_n\\}$. We prove by induction on $r$ that\n",
    "$$ f[x_0, \\dots, x_n] = f[\\sigma(x_0), \\dots, \\sigma(x_n)]. $$\n",
    "For the base case, suppose $r=1$, then $\\sigma = \\tau$ is a transposition of $x_a$ and $x_b$. We now define\n",
    "$$ U_j = \\frac{f(x_j)}{\\displaystyle\\prod_{\\substack{k=0, \\\\ k\\ne j}}^n (x_j-x_k)} \\quad\\text{and}\\quad V_j = \\frac{f(\\sigma(x_j))}{\\displaystyle\\prod_{\\substack{k=0, \\\\ k\\ne j}}^n (\\sigma(x_j)-\\sigma(x_k))}. $$\n",
    "Then by Exercise 1(a), we have\n",
    "$$ f[x_0, \\dots, x_n] = \\sum_{j=0}^n U_j \\quad\\text{and}\\quad f[\\sigma(x_0),\\dots,\\sigma(x_n)] = \\sum_{j=0}^n V_j. $$\n",
    "Now,\n",
    "$$ f[\\sigma(x_0),\\dots,\\sigma(x_n)] = V_a + V_b + \\sum_{\\substack{j=0, \\\\ j\\ne a \\\\ j\\ne b}}^n V_j,$$\n",
    "and we look at each $V_a$, $V_b$, and $V_j$ for $j\\ne a, b$, individually. First,\n",
    "\\begin{align*}\n",
    "    V_a \n",
    "        &= \\frac{f(\\sigma(x_a))}{\\displaystyle\\prod_{\\substack{k=0, \\\\ k\\ne a}}^n (\\sigma(x_a)-\\sigma(x_k))} \\\\\n",
    "        &= \\frac{f(x_b)}{\\displaystyle\\prod_{\\substack{k=0, \\\\ k\\ne a}}^n (x_b-\\sigma(x_k))} \\\\\n",
    "        &= \\frac{f(x_b)}{(x_b - \\sigma(x_b))\\displaystyle\\prod_{\\substack{k=0, \\\\ k \\ne a, \\\\ k \\ne b}}^n (x_b-\\sigma(x_k))} \\\\\n",
    "        &= \\frac{f(x_b)}{(x_b - x_a)\\displaystyle\\prod_{\\substack{k=0, \\\\ k \\ne a, \\\\ k \\ne b}}^n (x_b-x_k)} \\\\\n",
    "        &= \\frac{f(x_b)}{\\displaystyle\\prod_{\\substack{k=0, \\\\ k \\ne b}}^n (x_b-x_k)} \\\\\n",
    "        &= U_b.\n",
    "\\end{align*}\n",
    "Similarly, we find that $V_b = U_a$. Now if $j\\ne a$ and $j\\ne b$, then\n",
    "\\begin{align*}\n",
    "    V_j \n",
    "        &= \\frac{f(\\sigma(x_j))}{\\displaystyle\\prod_{\\substack{k=0, \\\\ k\\ne j}}^n (\\sigma(x_j)-\\sigma(x_k))} \\\\\n",
    "        &= \\frac{f(x_j)}{\\displaystyle\\prod_{\\substack{k=0, \\\\ k\\ne j}}^n (x_j-\\sigma(x_k))} \\\\\n",
    "        &= \\frac{f(x_j)}{(x_j - \\sigma(x_a))(x_j - \\sigma(x_b))\\displaystyle\\prod_{\\substack{k=0, \\\\ k \\ne j, \\\\ k \\ne a, \\\\ k \\ne b}}^n (x_j-\\sigma(x_k))} \\\\\n",
    "        &= \\frac{f(x_j)}{(x_j - x_b)(x_j - x_a)\\displaystyle\\prod_{\\substack{k=0, \\\\ k \\ne j, \\\\ k \\ne a, \\\\ k \\ne b}}^n (x_b-x_k)} \\\\\n",
    "        &= \\frac{f(x_j)}{\\displaystyle\\prod_{\\substack{k=0, \\\\ k \\ne j}}^n (x_j-x_k)} \\\\\n",
    "        &= U_j.\n",
    "\\end{align*}\n",
    "Thus,\n",
    "$$ f[\\sigma(x_0),\\dots,\\sigma(x_n)] = U_b + U_a + \\sum_{\\substack{j=0, \\\\ j\\ne a \\\\ j\\ne b}}^n U_j = \\sum_{j=0}^n U_j = f[x_0, \\dots, x_n],$$\n",
    "completing the base case. For the inductive step, we suppose that the equality holds up to some $r \\geq 1$, and consider the case that $\\sigma = \\tau_1 \\cdots \\tau_{r+1}$ for transpositions $\\tau_1, \\dots, \\tau_{r+1}$. Applying both the inductive hypothesis and the base case, we obtain\n",
    "\\begin{align*}\n",
    "    f[\\sigma(x_0),\\dots,\\sigma(x_n)]\n",
    "        &= f[\\tau_1 \\cdots \\tau_r \\tau_{r+1}(x_0), \\dots, \\tau_1 \\cdots \\tau_r \\tau_{r+1}(x_n)] \\\\\n",
    "        &= f[\\tau_{r+1}(x_0), \\dots, \\tau_{r+1}(x_n)] \\\\\n",
    "        &= f[x_0, \\dots, x_n]\n",
    "\\end{align*}\n",
    "this completes the induction and prove the equality for all permutations $\\sigma$ of the set $\\{x_0, \\dots, x_n\\}$.\n"
   ]
  },
  {
   "cell_type": "markdown",
   "metadata": {},
   "source": [
    "## Exercise 2"
   ]
  },
  {
   "cell_type": "markdown",
   "metadata": {},
   "source": [
    "#### Exercise 2(a)\n",
    "\n",
    "---\n",
    "\n",
    "Write computer codes to compute the coefficients $c_0, c_1, \\dots, c_n$ and to evaluate the corresponding interpolation polynomial at an arbitrary point $x$. Test your codes and turn in a run of your test.\n",
    "\n",
    "---"
   ]
  },
  {
   "cell_type": "markdown",
   "metadata": {},
   "source": [
    "Given the data $(x_0,f(x_0)),\\dots,(x_n,f(x_n))$, we let $X$ and $F$ be the lists of nodes and values, respectively, i.e, $X = [x_0,\\dots,x_n]$ and $F=[f(x_0),\\dots,f(x_n)]$. The coefficients of the Newton form of the interpolating polynomial are compted recursively in the following way:\n",
    "$$f[x_j] = f(x_j) \\quad \\text{for $j=0,\\dots,n$},$$\n",
    "\n",
    "$$f[x_0,\\dots,x_k] = \\frac{f[x_1,\\dots,x_k] - f[x_0,\\dots,x_{k-1}]}{x_k-x_0]}.$$\n",
    "We use the list $C=[c_0,\\dots,c_n]$ to store the coefficients during the computation. After the computation of all $k$th order coefficients, we will have\n",
    "$$c_j = \n",
    "    \\begin{cases}\n",
    "        f[x_0,\\dots,x_j] & \\text{if $j\\in\\{0,\\dots,k\\}$}, \\\\\n",
    "        f[x_{j-k},\\dots,x_j] & \\text{if $j\\in\\{k+1,\\dots,n\\}$}.\n",
    "    \\end{cases}\n",
    "$$\n",
    "The following function performs these computations and returns the resultant list $C$ of coefficients for the Newton form of the interpolating polynomial."
   ]
  },
  {
   "cell_type": "code",
   "execution_count": null,
   "metadata": {},
   "outputs": [],
   "source": [
    "def newton_coefficients(X, F):\n",
    "    n = len(X) - 1\n",
    "    C = [f for f in F]\n",
    "    \n",
    "    for k in range(1, n+1):\n",
    "        for j in range(n, k-1, -1):\n",
    "            C[j] = (C[j] - C[j-1]) / (X[j] - X[j-k])\n",
    "    \n",
    "    return C"
   ]
  },
  {
   "cell_type": "markdown",
   "metadata": {},
   "source": [
    "Using our construction of $C$, the Newton form of the interpolating polynomial is given by\n",
    "$$P_n(x) = c_0 + \\sum_{j=1}^n c_j\\prod_{k=0}^{j-1}(x-x_k).$$\n",
    "We can rearrrange this equation by noticing that all terms following the $(j+1)$th term share the factor $(x-x_j)$:\n",
    "$$P_n(x) = c_0 + (x-x_0)(c_1 + (x-x_1)(c_2 + (x-x_2)(\\cdots(c_{n-1} + (x-x_{n-1})(c_n))\\cdots))).$$\n",
    "In other words, if we define\n",
    "$$p_j = c_j + (x-x_j)(\\cdots(c_{n-1} + (x-x_{n-1})(c_n))\\cdots),$$\n",
    "then we have a recursive formula defined by\n",
    "$$p_n = c_n,$$\n",
    "\n",
    "$$p_j = c_j + (x-x_j)p_{j+1} \\quad \\text{for $j=n-1,\\dots,0$}.$$\n",
    "This construction gives us $p_0 = P_n(x)$. The following function takes the lists $X$ and $C$ and a point $x$, then implments this algorithm to compute $P_n(x)$."
   ]
  },
  {
   "cell_type": "code",
   "execution_count": null,
   "metadata": {},
   "outputs": [],
   "source": [
    "def newton_approx(X, C, x):\n",
    "    n = len(X) - 1\n",
    "    p = C[n]\n",
    "    \n",
    "    for j in range(n-1, -1, -1):\n",
    "        p = C[j] + (x - X[j])*p\n",
    "    \n",
    "    return p"
   ]
  },
  {
   "cell_type": "markdown",
   "metadata": {},
   "source": [
    "This implementation of the Newton form of the interpolating polynomial is tested below for 11 equidistributed nodes on the interval $[0,1]$ with randomly slected values, also on the interval $[0,1]$."
   ]
  },
  {
   "cell_type": "code",
   "execution_count": 3,
   "metadata": {},
   "outputs": [
    {
     "data": {
      "image/png": "[encoded data removed]",
      "text/plain": [
       "<Figure size 432x288 with 1 Axes>"
      ]
     },
     "metadata": {
      "needs_background": "light"
     },
     "output_type": "display_data"
    }
   ],
   "source": [
    "import matplotlib.pyplot as plt\n",
    "\n",
    "def plot_2a():\n",
    "    N = 10\n",
    "    X = [i/N for i in range(0, N+1)]\n",
    "    F = [0.7748932230257083, 0.3689858809775991, 0.5281632763015589, 0.9441111985644262, 0.6306523487106807, 0.1690631497930427, 0.7394554268208867, 0.17877643177253844, 0.05201749951235857, 0.5840267643078096, 0.19062021148326325]\n",
    "    C = newton_coefficients(X, F)\n",
    "    \n",
    "    M = 5000\n",
    "    X_dom = [i/M for i in range(0, M+1)]\n",
    "    F_approx = [newton_approx(X, C, x) for x in X_dom]\n",
    "\n",
    "    plt.plot(X, F, 'ro')\n",
    "    plt.plot(X_dom, F_approx)\n",
    "    plt.ylim(-0.25,1.25)\n",
    "    plt.show()\n",
    "\n",
    "plot_2a()"
   ]
  },
  {
   "cell_type": "markdown",
   "metadata": {},
   "source": [
    "#### Exercise 2(b)\n",
    "\n",
    "---\n",
    "\n",
    "Consider the function $f(x) = e^{-x^2}$ for $x\\in[-1,1]$ and the nodes $x_j = -1 + j(2/10), j=0,1,\\dots,10$. Use your code in (a) to evaluate $P_{10}(x)$ at points $\\overline{x}_j = -1 + j(2/100), j=0,1,\\dots,100$ and plot the error $f(x) - P_{10}(x)$.\n",
    "\n",
    "---"
   ]
  },
  {
   "cell_type": "markdown",
   "metadata": {},
   "source": [
    "We first define a function coinciding with $f(x) = e^{-x^2}$."
   ]
  },
  {
   "cell_type": "code",
   "execution_count": 4,
   "metadata": {},
   "outputs": [],
   "source": [
    "import math\n",
    "\n",
    "def f_2b(x):\n",
    "    return math.exp(-x**2)"
   ]
  },
  {
   "cell_type": "markdown",
   "metadata": {},
   "source": [
    "We now use the code from Exercise 2(a) to find the interpolating polynomial $P_{10}$ for $f$ at the 11 equidistributed points on the interval $[-1,1]$."
   ]
  },
  {
   "cell_type": "code",
   "execution_count": 5,
   "metadata": {},
   "outputs": [
    {
     "data": {
      "image/png": "[encoded data removed]",
      "text/plain": [
       "<Figure size 432x288 with 1 Axes>"
      ]
     },
     "metadata": {
      "needs_background": "light"
     },
     "output_type": "display_data"
    }
   ],
   "source": [
    "def plot_2b():\n",
    "    X = [-1 + 2*i/10 for i in range(0, 11)]\n",
    "    F = [f_2b(x) for x in X]\n",
    "    C = newton_coefficients(X, F)\n",
    "    \n",
    "    M = 100\n",
    "    X_dom = [-1 + 2*i/M for i in range(0, M+1)]\n",
    "    F_actual = [f_2b(x) for x in X_dom]\n",
    "    F_approx = [newton_approx(X, C, x) for x in X_dom]\n",
    "\n",
    "    plt.plot(X, F, 'ro')\n",
    "    plt.plot(X_dom, F_actual)\n",
    "    plt.plot(X_dom, F_approx)\n",
    "    plt.show()\n",
    "\n",
    "plot_2b()"
   ]
  },
  {
   "cell_type": "markdown",
   "metadata": {},
   "source": [
    "This appears to be quite a good approximation for $f$, as the graphs are so close as to be indistinguishable. We now plot the error $f(x)-P_{10}(x)$ on the interval $[-1,1]$"
   ]
  },
  {
   "cell_type": "code",
   "execution_count": 6,
   "metadata": {},
   "outputs": [
    {
     "data": {
      "image/png": "[encoded data removed]",
      "text/plain": [
       "<Figure size 432x288 with 1 Axes>"
      ]
     },
     "metadata": {
      "needs_background": "light"
     },
     "output_type": "display_data"
    }
   ],
   "source": [
    "def plot_2b():\n",
    "    X = [-1 + 2*i/10 for i in range(0, 11)]\n",
    "    F = [f_2b(x) for x in X]\n",
    "    C = newton_coefficients(X, F)\n",
    "    \n",
    "    M = 200\n",
    "    X_dom = [-1 + 2*i/M for i in range(0, M+1)]\n",
    "    F_error = [f_2b(x) - newton_approx(X, C, x) for x in X_dom]\n",
    "    \n",
    "    plt.plot(X, [0 for _ in X], 'ro')\n",
    "    plt.plot(X_dom, F_error)\n",
    "    plt.show()\n",
    "\n",
    "plot_2b()"
   ]
  },
  {
   "cell_type": "markdown",
   "metadata": {},
   "source": [
    "The points shown on the $x$-axis of the above plot are the $x$ values which $P_n(x)$ interpolates. Since $f(x)$ and $P_n(x)$ are equal at the points where we interpolated, we expect the error at these points to be zero; this is confirmed in the plot of the error. While the error is quite small towards the center of the graph, it seems to be significantly greater towards the edges. However, the interpolating polynomial does appear to converge uniformly to $f$, as the vertical scale of the error plot appears to converge to zero quite quickly. Regardless, the peaks in the error towards the extremes could be suppressed by a selection of samples which is more dense towards the boundaries."
   ]
  },
  {
   "cell_type": "markdown",
   "metadata": {},
   "source": [
    "## Exercise 3\n",
    "\n",
    "---\n",
    "\n",
    "*Inverse Interpolation.* Suppose that we want to solce the equation $f(x) = 0$, for some function $f$ which has an inverse $f^{-1}$. If we have two approximations $x_0$ and $x_1$ of a zero $\\overline{x}$ of $f$ then we can use interpolation to find a better approximation, $\\overline{x} \\approx f^{-1}(0)$, as follows. Let $y_0 = f(x_0)$ and $y_1=f(x_1)$.\n",
    "\n",
    "$$\\text{Table 1}$$\n",
    "$$\n",
    "    \\begin{array}{c c c}\n",
    "        y_j = f(x_j) &  x_j \\\\\n",
    "        \\hline\n",
    "        y_0 & x_0 \\\\\n",
    "        y_1 & x_1 & f^{-1}[y_0,y_1]\n",
    "    \\end{array}\n",
    "$$\n",
    "\n",
    "and $P_1(0) = x_0 + f^{-1}[y_0,y_1](0-y_0) = x_0 - y_0f^{-1}[y_0,y_1]$. We could now define $x_2 = P_1(0)$, evaluate $f$ at this point to get $y_2 = f(x_2)$, and then add one more row to our table 1 to get $f^{-1}[y_0, y_1, y_2]$. Once this is computed we can evaluate $P_2(0)$ to get an improved approximation $\\overline{x}$, etc. Let $f(x) = x-e^{-x}$ using the values $f(0.5) = -0.106530659712633$ and $f(0.6) = 0.051188363905973$ find an approximate value for the zero $\\overline{x}$ of $f$ by evaluating $P_1(0)$.\n",
    "\n",
    "---"
   ]
  },
  {
   "cell_type": "markdown",
   "metadata": {},
   "source": [
    "Using the data $X = [y_0,y_1]$ and $F = [x_0, x_1]$, we compute the interpolating polynomial $P_1$ of the function $f^{-1}$, then evaluate $P_1(0)$ to obtain an approximation of the zero $\\overline{x}$ of $f$."
   ]
  },
  {
   "cell_type": "code",
   "execution_count": 7,
   "metadata": {},
   "outputs": [
    {
     "name": "stdout",
     "output_type": "stream",
     "text": [
      "0.5675445848373015\n"
     ]
    }
   ],
   "source": [
    "def inverse_interpolation():\n",
    "    X = [-0.106530659712633, 0.051188363905973]\n",
    "    F = [0.5, 0.6]\n",
    "    C = newton_coefficients(X, F)\n",
    "    \n",
    "    print(newton_approx(X, C, 0))\n",
    "\n",
    "inverse_interpolation()"
   ]
  },
  {
   "cell_type": "markdown",
   "metadata": {},
   "source": [
    "Thus, $\\overline{x} = f^{-1}(0) \\approx P_1(0) = 0.5675445848373015$."
   ]
  },
  {
   "cell_type": "markdown",
   "metadata": {},
   "source": [
    "## Exercise 4\n",
    "\n",
    "---\n",
    "\n",
    "Obtain the Hermite interpolation polynomial corresponding to the data $f(0) = 0$, $f'(0) = 0$, $f(1) = 2$, $f'(1) = 3$.\n",
    "\n",
    "---"
   ]
  },
  {
   "cell_type": "markdown",
   "metadata": {},
   "source": [
    "We first solve for the coefficients of the Hermite interpolation polynomial.\n",
    "$$\n",
    "    \\begin{array}{c|cccc}\n",
    "        x_j &  0\\text{th order} & 1\\text{st order} & 2\\text{nd order} & 3\\text{rd order} \\\\\n",
    "        \\hline\n",
    "        0 & f[0] = f(0) = 0 \\\\\n",
    "          &                 & f[0,0] = \\frac{f'(0)}{1} = 0 \\\\\n",
    "        0 & f[0] = f(0) = 0 &                              & f[0,0,1] = \\frac{2-0}{1-0} = 2 \\\\\n",
    "          &                 & f[0,1] = \\frac{2-0}{1-0} = 2 &                                & f[0,0,1,1] = \\frac{1-2}{1-0} = -1 \\\\\n",
    "        1 & f[1] = f(1) = 2 &                              & f[0,1,1] = \\frac{3-2}{1-0} = 1 \\\\\n",
    "          &                 & f[1,1] = \\frac{f'(1)}{1} = 3 \\\\\n",
    "        1 & f[1] = f(1) = 2 \n",
    "    \\end{array}\n",
    "$$\n",
    "Then the polynomial $P$ which interpolates $f$ at the given nodes, values, and derivatives is given by\n",
    "\\begin{align*}\n",
    "    P(x) \n",
    "        &= f[0] + f[0,0](x-0) + f[0,0,1](x-0)(x-0) + f[0,0,1,1](x-0)(x-0)(x-1) \\\\\n",
    "        &= 0 + 0 + 2x^2 + (-1)x^2(x-1) \\\\\n",
    "        &= x^2(2 - (x-1)) \\\\\n",
    "        &= x^2(3-x) \\\\\n",
    "        &= -x^3 + 3x^2.\n",
    "\\end{align*}\n"
   ]
  },
  {
   "cell_type": "markdown",
   "metadata": {},
   "source": [
    "## Exercise 5\n",
    "\n",
    "---\n",
    "\n",
    "Write a code to compute a natural spline $S(x)$ which interpolates a collection of given points $(x_0, y_0),(x_1, y_1), \\dots,(x_n, y_n)$ where $x_0 < x_1 < x_2 < \\cdots < x_n$ (do not assume they are equidistributed).\n",
    "\n",
    "\n",
    "---"
   ]
  },
  {
   "cell_type": "markdown",
   "metadata": {},
   "source": [
    "The natural spline $S(x)$ which interpolates the data $(x_0, y_0),(x_1, y_1), \\dots,(x_n, y_n)$ is, piecewise, a cubic interpolating polynomial on each of the intervals $[x_0,x_1], \\dots, [x_{n-1}, x_n]$. In particular,\n",
    "$$ S(x) = S_j(x) = a_j (x - x_j)^3 + b_j (x - x_j)^2 + c_j (x - x_j) + d_j$$\n",
    "if $x \\in [x_j, x_{j+1}]$, for $j = 0, \\dots, n-1$. Additionally, we impose the conditions that\n",
    "\\begin{align*}\n",
    "    S_j(x_{j+1}) &= S_{j+1}(x_{j+1}), \\\\\n",
    "    S_j'(x_{j+1}) &= S_{j+1}'(x_{j+1}), \\\\\n",
    "    S_j''(x_{j+1}) &= S_{j+1}''(x_{j+1}),\n",
    "\\end{align*}\n",
    "for $j = 0, \\dots, n-1$. And for the natural spline, we want $S_0''(x_0) = 0$ and $S_{n-1}''(x_n) = 0$. We now let $h_j = x_{j+1} - x_j$ for $j = 0, \\dots, n-1$, and $z_j = S_j''(x_j)$ for $j = 0, \\dots, n$. Using these definitions and the above conditions, we derive the following expressions for the coefficients of the cubic polynomial $S_j(x)$:\n",
    "\\begin{align*}\n",
    "    a_j &= \\frac1{6h_j} (z_{j+1} - z_j), \\tag{2}\\\\\n",
    "    b_j &= \\frac12 z_j, \\\\\n",
    "    c_j &= \\frac1{h_j} (y_{j+1} - y_j) - \\frac16 h_j (z_{j+1} + 2z_j), \\\\\n",
    "    d_j &= y_j. \n",
    "\\end{align*}\n",
    "Moreover, we derive the following equality for $j = 1, \\dots, n-1$:\n",
    "$$ h_{j-1} z_{j-1} + 2(h_{j-1} + h_i)z_j + h_i z_{j+1} = \\frac{-6}{h_{j-1}} (y_j - y_{j-1}) + \\frac{6}{h_j} (y_{j+1} - y_j).$$\n",
    "From these, we obtain the system of linear equations $Mz = e$ where we have the $(n-1) \\times (n-1)$ tridiagonal matrix\n",
    "$$ M = \\begin{bmatrix}\n",
    "    u_1 & h_1 & & & \\\\\n",
    "    h_1 & u_2 & h_2 & & \\\\\n",
    "     & h_2 & \\ddots & \\ddots & \\\\\n",
    "     & & \\ddots & \\ddots & h_{n-2} \\\\\n",
    "     & & & h_{n-2} & u_{n-1}\n",
    "\\end{bmatrix},$$\n",
    "where $u_j = 2(h_{j-1} + h_j)$, and the $(n-1)$-vectors\n",
    "$$ z = \\begin{bmatrix} z_1 \\\\ \\vdots \\\\ z_{n-1} \\end{bmatrix} \\quad\\text{and}\\quad e = \\begin{bmatrix} e_1 \\\\ \\vdots \\\\ e_{n-1} \\end{bmatrix},$$\n",
    "where\n",
    "$$ e_j = g_j - g_{j-1} \\quad\\text{and}\\quad g_j = \\frac{6}{h_j} (y_{j+1} - y_j). $$\n",
    "We have the following algorithm for solving a tridiagonal system of equations:\n",
    "\\begin{align*}\n",
    "    &\\textbf{for $j = 2, \\dots, n-1,$ do}\\\\\n",
    "    &\\phantom{0000} w = \\frac{h_{j-1}}{u_{j-1}} \\\\\n",
    "    &\\phantom{0000} u_j := u_j - w h_{j-1} \\\\\n",
    "    &\\phantom{0000} e_j := e_j - w e_{j-1} \\\\\n",
    "\\end{align*}\n",
    "Then the values of $z$ are computed by backwards substitutions:\n",
    "\\begin{align*}\n",
    "    & z_{n-1} = \\frac{e_{n-1}}{u_{n-1}} \\\\\n",
    "    &\\textbf{for $j = n-1, \\dots, 1,$ do} \\\\\n",
    "    &\\phantom{0000} z_j = \\frac{e_j - h_j z_{j+1}}{u_j}\n",
    "\\end{align*}\n",
    "\n",
    "Note that all of the above division is well defined since $x_j < x_{j+1}$, implying $h_j > 0$ for $j = 0, \\dots, n-1$. The following function takes as input the lists $X = [x_0, \\dots, x_n]$ and $Y = [y_0, \\dots, y_n]$, and implements the above algorithm to return the list $Z = [0, \\dots, z_n]$."
   ]
  },
  {
   "cell_type": "code",
   "execution_count": 8,
   "metadata": {},
   "outputs": [],
   "source": [
    "def cubic_spline_z(X, Y):\n",
    "    n = len(X) - 1\n",
    "    H = [X[j+1] - X[j] for j in range(0, n)]\n",
    "    G = [6 * (Y[j+1] - Y[j]) / H[j] for j in range(0, n)]\n",
    "    U = [0 for _ in range(0, n)]\n",
    "    E = [0 for _ in range(0, n)]\n",
    "    \n",
    "    U[1] = 2 * (H[1] + H[0])\n",
    "    E[1] = G[1] - G[0]\n",
    "    \n",
    "    for j in range(2, n):\n",
    "        U[j] = 2 * (H[j] + H[j-1]) - H[j-1]**2 / U[j-1]\n",
    "        E[j] = G[j] - G[j-1] - E[j-1] * H[j-1] / U[j-1]\n",
    "    \n",
    "    Z = [0 for _ in range(0, n+1)]\n",
    "    \n",
    "    for j in range(n-1, 0, -1):\n",
    "        Z[j] = (E[j] - H[j] * Z[j+1]) / U[j]\n",
    "    \n",
    "    return Z"
   ]
  },
  {
   "cell_type": "markdown",
   "metadata": {},
   "source": [
    "Now having the values of $z_0, \\dots, z_n$, we can solve for the cubic spline coefficients using the expressions in (2). The following function takes the lists $X$, $Y$, and $Z$, and returns the lists\n",
    "\\begin{align*}\n",
    "    A &= [a_0, \\dots, a_{n-1}], \\\\\n",
    "    B &= [b_0, \\dots, b_{n-1}], \\\\\n",
    "    C &= [c_0, \\dots, c_{n-1}], \\\\\n",
    "    D &= [d_0, \\dots, d_{n-1}].\n",
    "\\end{align*}"
   ]
  },
  {
   "cell_type": "code",
   "execution_count": 9,
   "metadata": {},
   "outputs": [],
   "source": [
    "def cubic_spline_coefficients(X, Y, Z):\n",
    "    n = len(X) - 1\n",
    "    H = [X[j+1] - X[j] for j in range(0, n)]\n",
    "    \n",
    "    A = [(Z[j+1] - Z[j]) / (6 * H[j]) for j in range(0, n)]\n",
    "    B = [Z[j] / 2 for j in range(0, n)]\n",
    "    C = [(Y[j+1] - Y[j]) / H[j] - H[j] * (Z[j+1] + 2 * Z[j]) / 6 for j in range(0, n)]\n",
    "    D = [Y[j] for j in range(0, n)]\n",
    "    \n",
    "    return A, B, C, D"
   ]
  },
  {
   "cell_type": "markdown",
   "metadata": {},
   "source": [
    "Now for a given $x \\in [x_0, x_n]$, we have $S(x) = S_j(x)$ if $x \\in[x_j, x_{j+1}$. We have an equivalent representation of $S_j(x)$ as follows:\n",
    "$$S_j(x) = ((a_j (x - x_j) + b_j )(x - x_j) + c_j )(x - x_j) + d_j.$$\n",
    "The following function takes the lists $X, A, B, C, D$, and a point $x$, and returns the evalutation of $S(x) = S_j(x)$ for the propert interval using the above form of $S_j(x)$."
   ]
  },
  {
   "cell_type": "code",
   "execution_count": 10,
   "metadata": {},
   "outputs": [],
   "source": [
    "def cubic_spline_eval(X, A, B, C, D, x):\n",
    "    for j in range(0, len(X)-1):\n",
    "        if X[j] <= x and x <= X[j+1]:\n",
    "            x_dif = x - X[j]\n",
    "            return D[j] + x_dif * (C[j] + x_dif * (B[j] + x_dif * A[j]))"
   ]
  },
  {
   "cell_type": "markdown",
   "metadata": {},
   "source": [
    "We test this implementation of the natural spline interpolation on the same set of points we used in Exercise 2(a) to test the Newton's form of the interpolating polynomial. Recall that the interpolating polynomial gives us the following."
   ]
  },
  {
   "cell_type": "code",
   "execution_count": 11,
   "metadata": {},
   "outputs": [
    {
     "data": {
      "image/png": "[encoded data removed]",
      "text/plain": [
       "<Figure size 432x288 with 1 Axes>"
      ]
     },
     "metadata": {
      "needs_background": "light"
     },
     "output_type": "display_data"
    }
   ],
   "source": [
    "plot_2a()"
   ]
  },
  {
   "cell_type": "markdown",
   "metadata": {},
   "source": [
    "Now the natural cubic spline interpolation of the same set of points gives us the following."
   ]
  },
  {
   "cell_type": "code",
   "execution_count": 12,
   "metadata": {},
   "outputs": [
    {
     "data": {
      "image/png": "[encoded data removed]",
      "text/plain": [
       "<Figure size 432x288 with 1 Axes>"
      ]
     },
     "metadata": {
      "needs_background": "light"
     },
     "output_type": "display_data"
    }
   ],
   "source": [
    "def plot_5():\n",
    "    N = 10\n",
    "    X = [i/N for i in range(0, N+1)]\n",
    "    Y = [0.7748932230257083, 0.3689858809775991, 0.5281632763015589, 0.9441111985644262, 0.6306523487106807, 0.1690631497930427, 0.7394554268208867, 0.17877643177253844, 0.05201749951235857, 0.5840267643078096, 0.19062021148326325]\n",
    "    A, B, C, D = cubic_spline_coefficients(X, Y, cubic_spline_z(X, Y))\n",
    "    \n",
    "    M = 5000\n",
    "    X_dom = [i/M for i in range(0, M+1)]\n",
    "    Y_val = [cubic_spline_eval(X, A, B, C, D, x) for x in X_dom]\n",
    "\n",
    "    plt.plot(X, Y, 'ro')\n",
    "    plt.plot(X_dom, Y_val)\n",
    "    plt.ylim(-0.25,1.25)\n",
    "    plt.show()\n",
    "\n",
    "plot_5()"
   ]
  },
  {
   "cell_type": "markdown",
   "metadata": {},
   "source": [
    "## Exercise 6\n",
    "\n",
    "---\n",
    "\n",
    "One important application of spline interpolation is the construction of smooth curves that\n",
    "are not necessarily the graph of a function but that have a parametric representation $x = x(t)$\n",
    "and $y = y(t)$ for $t \\in [a, b]$. Hence one needs to determine two splines interpolating $(t_j , x_j)$\n",
    "and $(t_j , y_j)$ $(j = 0, 1, \\dots,n)$.\n",
    "\n",
    "\n",
    "The arc length of the curve is a natural choice for the parameter $t$. However, this is not\n",
    "known a priori and instead the $t_j$'s are usually chosen as the distances of consecutive points:\n",
    "\n",
    "$$t_0=0,\\; t_j = t_{j-1} + \\sqrt{(x_j-x_{j-1})^2 + (y_j - y_{j-1})^2},\\; j=1,2,\\dots,n.$$\n",
    "\n",
    "Use the values in Table 2 to construct a smooth parametric representation of a curve passing\n",
    "through the points $(x_j , y_j ), j = 0, 1,\\dots, 8$ by finding the two natural cubic splines interpolating\n",
    "$(t_j , x_j)$ and $(t_j , y_j), j = 0, 1, \\dots, 8$, respectively. Tabulate the coefficients of the splines and plot\n",
    "the resulting (parametric) curve.\n",
    "\n",
    "$$\\text{Table 2}$$\n",
    "$$\n",
    "    \\begin{array}{c|c|c|c}\n",
    "        j & t_j & x_j & y_j \\\\\n",
    "        \\hline\n",
    "        0 & 0 & 1.50 & 0.75 \\\\\n",
    "        1 & 0.618 & 0.90 & 0.90 \\\\\n",
    "        2 & 0.935 & 0.60 & 1.00 \\\\\n",
    "        3 & 1.255 & 0.35 & 0.80 \\\\\n",
    "        4 & 1.636 & 0.20 & 0.45 \\\\\n",
    "        5 & 1.905 & 0.10 & 0.20 \\\\\n",
    "        6 & 2.317 & 0.50 & 0.10 \\\\\n",
    "        7 & 2.827 & 1.00 & 0.20 \\\\\n",
    "        8 & 3.330 & 1.50 & 0.25 \\\\\n",
    "    \\end{array}\n",
    "$$\n",
    "\n",
    "---"
   ]
  },
  {
   "cell_type": "code",
   "execution_count": 13,
   "metadata": {},
   "outputs": [
    {
     "data": {
      "image/png": "[encoded data removed]",
      "text/plain": [
       "<Figure size 432x288 with 1 Axes>"
      ]
     },
     "metadata": {
      "needs_background": "light"
     },
     "output_type": "display_data"
    }
   ],
   "source": [
    "def plot_6():\n",
    "    T = [0, 0.618, 0.935, 1.255, 1.636, 1.905, 2.217, 2.827, 3.330]\n",
    "    X = [1.5, 0.9, 0.6, 0.35, 0.2, 0.1, 0.5, 1, 1.5]\n",
    "    Y = [0.75, 0.9, 1, 0.8, 0.45, 0.2, 0.1, 0.2, 0.25]\n",
    "    \n",
    "    AX, BX, CX, DX = cubic_spline_coefficients(T, X, cubic_spline_z(T, X))\n",
    "    AY, BY, CY, DY = cubic_spline_coefficients(T, Y, cubic_spline_z(T, Y))\n",
    "    \n",
    "    M = 1000\n",
    "    T_dom = [3.33 * i / M for i in range(0, M+1)]\n",
    "    X_val = [cubic_spline_eval(T, AX, BX, CX, DX, t) for t in T_dom]\n",
    "    Y_val = [cubic_spline_eval(T, AY, BY, CY, DY, t) for t in T_dom]\n",
    "\n",
    "    plt.plot(X, Y, 'ro')\n",
    "    plt.plot(X_val, Y_val)\n",
    "    plt.show()\n",
    "\n",
    "plot_6()"
   ]
  }
 ],
 "metadata": {
  "kernelspec": {
   "display_name": "Python 3",
   "language": "python",
   "name": "python3"
  },
  "language_info": {
   "codemirror_mode": {
    "name": "ipython",
    "version": 3
   },
   "file_extension": ".py",
   "mimetype": "text/x-python",
   "name": "python",
   "nbconvert_exporter": "python",
   "pygments_lexer": "ipython3",
   "version": "3.8.5"
  }
 },
 "nbformat": 4,
 "nbformat_minor": 4
}
