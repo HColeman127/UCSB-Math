{
 "cells": [
  {
   "cell_type": "markdown",
   "metadata": {},
   "source": [
    "# Final\n",
    "\n",
    "MATH 104A Intro to Numerical Analysis\n",
    "\n",
    "Harry Coleman\n",
    "\n",
    "December 13, 2020"
   ]
  },
  {
   "cell_type": "markdown",
   "metadata": {},
   "source": [
    "## 1.2"
   ]
  },
  {
   "cell_type": "markdown",
   "metadata": {},
   "source": [
    "This code defines values for the subinterval width, number of subintervals, and creates a list of values. It then outputs an approximation of the corresponding integral by the composite trapezoidal rule."
   ]
  },
  {
   "cell_type": "code",
   "execution_count": 1,
   "metadata": {},
   "outputs": [
    {
     "name": "stdout",
     "output_type": "stream",
     "text": [
      "0.9942818882921578\n"
     ]
    }
   ],
   "source": [
    "import math\n",
    "\n",
    "def CTR():\n",
    "    h = math.pi/24\n",
    "    n = 12\n",
    "    F = [math.sin(2*j*h) for j in range(0, n+1)]\n",
    "    \n",
    "    print((F[0] + 2*sum(F[1:n]) + F[-1]) * h/2)\n",
    "\n",
    "CTR()"
   ]
  },
  {
   "cell_type": "markdown",
   "metadata": {},
   "source": [
    "## 1.3"
   ]
  },
  {
   "cell_type": "markdown",
   "metadata": {},
   "source": [
    "This code defines values for the subinterval width, number of subintervals, and creates a list of values. It then outputs an approximation of the corresponding integral by the composite Simpson's rule."
   ]
  },
  {
   "cell_type": "code",
   "execution_count": 2,
   "metadata": {},
   "outputs": [
    {
     "name": "stdout",
     "output_type": "stream",
     "text": [
      "1.0000263121705928\n"
     ]
    }
   ],
   "source": [
    "def CSR():\n",
    "    h = math.pi/24\n",
    "    n = 12\n",
    "    F = [math.sin(2*j*h) for j in range(0, n+1)]\n",
    "    \n",
    "    print((F[0] + F[-1] + 2*sum(F[2:n:2]) + 4*sum(F[1:n:2])) * h/3)\n",
    "\n",
    "CSR()"
   ]
  },
  {
   "cell_type": "markdown",
   "metadata": {},
   "source": [
    "## 1.4"
   ]
  },
  {
   "cell_type": "markdown",
   "metadata": {},
   "source": [
    "This code performs a calculation to obtain an approximate result."
   ]
  },
  {
   "cell_type": "code",
   "execution_count": 3,
   "metadata": {},
   "outputs": [
    {
     "name": "stdout",
     "output_type": "stream",
     "text": [
      "127.07911881051172\n"
     ]
    }
   ],
   "source": [
    "print(math.sqrt(math.pi**3 / (96 * 0.00002)))"
   ]
  }
 ],
 "metadata": {
  "kernelspec": {
   "display_name": "Python 3",
   "language": "python",
   "name": "python3"
  },
  "language_info": {
   "codemirror_mode": {
    "name": "ipython",
    "version": 3
   },
   "file_extension": ".py",
   "mimetype": "text/x-python",
   "name": "python",
   "nbconvert_exporter": "python",
   "pygments_lexer": "ipython3",
   "version": "3.8.5"
  }
 },
 "nbformat": 4,
 "nbformat_minor": 4
}
